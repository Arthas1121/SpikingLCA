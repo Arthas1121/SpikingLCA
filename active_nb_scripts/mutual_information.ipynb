{
 "metadata": {
  "name": ""
 },
 "nbformat": 3,
 "nbformat_minor": 0,
 "worksheets": [
  {
   "cells": [
    {
     "cell_type": "markdown",
     "metadata": {},
     "source": [
      "## Developing the function for the calculation of mutual information between two images.\n",
      "\n",
      "Based on the Matlab code MI_GG.m found online:  \n",
      "http://www.mathworks.com/matlabcentral/fileexchange/36538-very-fast-mutual-information-betweentwo-images/content/MI_GG.m"
     ]
    },
    {
     "cell_type": "code",
     "collapsed": false,
     "input": [
      "import numpy as np\n",
      "def mutual_information(im1, im2):\n",
      "    \n",
      "    im1_norm = im1 - np.min(im1)\n",
      "    im2_norm = im2 - np.min(im2)\n",
      "        \n",
      "    top_border = np.max([np.max(im1_norm),np.max(im2_norm)])\n",
      "    \n",
      "    h = np.histogram2d(im1_norm, im2_norm, [top_border+1, top_border+1], [[0,top_border+1],[0,top_border+1]])[0]\n",
      "    hn = h/np.sum(h)\n",
      "    \n",
      "    y_marg = np.sum(hn,0)\n",
      "    x_marg = np.sum(hn,1)\n",
      "    \n",
      "    Hy = -np.sum(y_marg*np.log2(y_marg + (y_marg==0)))\n",
      "    Hx = -np.sum(x_marg*np.log2(x_marg + (x_marg==0)))\n",
      "    arg_xy2 = hn*np.log2(hn+(hn==0))\n",
      "    h_xy = np.sum(-arg_xy2)\n",
      "    \n",
      "    return Hy + Hx - h_xy"
     ],
     "language": "python",
     "metadata": {},
     "outputs": [],
     "prompt_number": 71
    },
    {
     "cell_type": "code",
     "collapsed": false,
     "input": [
      "i=256\n",
      "a = np.random.randint(0,i+1,size=(256**2))\n",
      "b = np.random.randint(0,i+1,size=(256**2))"
     ],
     "language": "python",
     "metadata": {},
     "outputs": [],
     "prompt_number": 123
    },
    {
     "cell_type": "code",
     "collapsed": false,
     "input": [
      "mutual_information(a, b)"
     ],
     "language": "python",
     "metadata": {},
     "outputs": [
      {
       "metadata": {},
       "output_type": "pyout",
       "prompt_number": 124,
       "text": [
        "0.82408812701666179"
       ]
      }
     ],
     "prompt_number": 124
    },
    {
     "cell_type": "code",
     "collapsed": false,
     "input": [
      "h=np.histogram2d(A[:,0],A[:,1], [6, 6], [[0,6],[0,6]])[0]\n",
      "h"
     ],
     "language": "python",
     "metadata": {},
     "outputs": [
      {
       "metadata": {},
       "output_type": "pyout",
       "prompt_number": 38,
       "text": [
        "array([[ 0.,  0.,  0.,  0.,  0.,  0.],\n",
        "       [ 0.,  1.,  3.,  0.,  1.,  1.],\n",
        "       [ 0.,  0.,  0.,  0.,  2.,  0.],\n",
        "       [ 0.,  0.,  1.,  0.,  0.,  1.],\n",
        "       [ 0.,  0.,  0.,  0.,  1.,  0.],\n",
        "       [ 0.,  0.,  0.,  0.,  0.,  1.]])"
       ]
      }
     ],
     "prompt_number": 38
    },
    {
     "cell_type": "code",
     "collapsed": false,
     "input": [
      "hn = h/np.sum(h)"
     ],
     "language": "python",
     "metadata": {},
     "outputs": [],
     "prompt_number": 33
    },
    {
     "cell_type": "code",
     "collapsed": false,
     "input": [
      "y_marg = np.sum(hn,0)\n",
      "x_marg = np.sum(hn,1)"
     ],
     "language": "python",
     "metadata": {},
     "outputs": [],
     "prompt_number": 36
    },
    {
     "cell_type": "code",
     "collapsed": false,
     "input": [
      "y_marg, x_marg"
     ],
     "language": "python",
     "metadata": {},
     "outputs": [
      {
       "metadata": {},
       "output_type": "pyout",
       "prompt_number": 37,
       "text": [
        "(array([ 0.        ,  0.08333333,  0.33333333,  0.        ,  0.33333333,\n",
        "        0.25      ]),\n",
        " array([ 0.        ,  0.5       ,  0.16666667,  0.16666667,  0.08333333,\n",
        "        0.08333333]))"
       ]
      }
     ],
     "prompt_number": 37
    },
    {
     "cell_type": "code",
     "collapsed": false,
     "input": [
      "Hy = -np.sum(y_marg*np.log2(y_marg + (y_marg==0)))\n",
      "Hx = -np.sum(x_marg*np.log2(x_marg + (x_marg==0)))\n",
      "arg_xy2 = hn*np.log2(hn+(hn==0))\n",
      "h_xy = np.sum(-arg_xy2)"
     ],
     "language": "python",
     "metadata": {},
     "outputs": [],
     "prompt_number": 55
    },
    {
     "cell_type": "code",
     "collapsed": false,
     "input": [
      "Hy + Hx - h_xy"
     ],
     "language": "python",
     "metadata": {},
     "outputs": [
      {
       "metadata": {},
       "output_type": "pyout",
       "prompt_number": 57,
       "text": [
        "0.79248125036057848"
       ]
      }
     ],
     "prompt_number": 57
    },
    {
     "cell_type": "code",
     "collapsed": false,
     "input": [
      "y_marg+(y_marg==0)"
     ],
     "language": "python",
     "metadata": {},
     "outputs": [
      {
       "metadata": {},
       "output_type": "pyout",
       "prompt_number": 45,
       "text": [
        "array([ 1.        ,  0.08333333,  0.33333333,  1.        ,  0.33333333,\n",
        "        0.25      ])"
       ]
      }
     ],
     "prompt_number": 45
    },
    {
     "cell_type": "code",
     "collapsed": false,
     "input": [
      "2**10"
     ],
     "language": "python",
     "metadata": {},
     "outputs": [
      {
       "metadata": {},
       "output_type": "pyout",
       "prompt_number": 115,
       "text": [
        "1024"
       ]
      }
     ],
     "prompt_number": 115
    },
    {
     "cell_type": "code",
     "collapsed": false,
     "input": [
      "256*256"
     ],
     "language": "python",
     "metadata": {},
     "outputs": [
      {
       "metadata": {},
       "output_type": "pyout",
       "prompt_number": 116,
       "text": [
        "65536"
       ]
      }
     ],
     "prompt_number": 116
    },
    {
     "cell_type": "code",
     "collapsed": false,
     "input": [],
     "language": "python",
     "metadata": {},
     "outputs": []
    }
   ],
   "metadata": {}
  }
 ]
}