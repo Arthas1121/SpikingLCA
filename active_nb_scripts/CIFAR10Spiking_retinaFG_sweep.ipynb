{
 "metadata": {
  "name": ""
 },
 "nbformat": 3,
 "nbformat_minor": 0,
 "worksheets": [
  {
   "cells": [
    {
     "cell_type": "markdown",
     "metadata": {},
     "source": [
      "# The parameter sweep on the retina firing rates.\n",
      "## Version 1 - first trial\n",
      "\n",
      "Using the v5 template (and v4 params file). I am modifying the strength of the input to the residual.\n",
      "\n",
      "The hypothesis is that as I increase the strength of the input, I will get higher firing rates in V1 and up until some point also better reconstruction.\n",
      "\n",
      "### Outcomes\n",
      "\n",
      "* "
     ]
    },
    {
     "cell_type": "code",
     "collapsed": false,
     "input": [
      "%load_ext autoreload\n",
      "%autoreload 2\n",
      "\n",
      "import LCA.LCA_common as cmn\n",
      "import LCA.LCA_octave_io as oio\n",
      "import matplotlib as mpl\n",
      "mpl.rc(\"text\", usetex=False)\n",
      "import matplotlib.pyplot as pyl\n",
      "import matplotlib.cm as cm\n",
      "from matplotlib import animation\n",
      "import LCA.LCA_plotting as plt\n",
      "from LCA.LCA_analysis import sparse_to_full, reconstruct_image, dict_set_at_idx, spike_population_from_pvp, dict_from_flat_data\n",
      "import neurovivo.common as nvcmn\n",
      "from LCA.LCA_various import run_CIFAR10Spiking, default_CIFAR10Spiking_v4_parameters\n",
      "import itertools\n",
      "import multiprocessing\n",
      "import pandas as pd\n",
      "\n",
      "PATH_OUTPUT = cmn.HOME+\"/data/CIFAR10Spiking/FG_sweep/\"\n",
      "PATH_OUTPUT_RATE = cmn.HOME+\"/data/CIFAR10RateForComparison/\"\n",
      "\n",
      "#PATH_FIGURES = cmn.HOME + \"/data/figures/CIFAR10Spiking/FG_sweep/\"\n",
      "PATH_FIGURES = cmn.HOME + \"/ws/LCA/figures/CIFAR10Spiking/FG_sweep/\"\n",
      "\n",
      "PATH_V12RES_W_POS = cmn.HOME + \"/ws/CIFAR10Spiking/input/weights/V1_to_residual_W.pvp_pos\"\n",
      "PATH_V12RES_W_NEG = cmn.HOME + \"/ws/CIFAR10Spiking/input/weights/V1_to_residual_W.pvp_neg\"\n",
      "PATH_RES2V1_W_POS = cmn.HOME + \"/ws/CIFAR10Spiking/input/weights/residual_to_V1_W.pvp_pos\"\n",
      "PATH_RES2V1_W_NEG = cmn.HOME + \"/ws/CIFAR10Spiking/input/weights/residual_to_V1_W.pvp_neg\"\n",
      "\n",
      "cmn.mkdir_p(PATH_FIGURES)"
     ],
     "language": "python",
     "metadata": {},
     "outputs": [
      {
       "output_type": "stream",
       "stream": "stdout",
       "text": [
        "The autoreload extension is already loaded. To reload it, use:\n",
        "  %reload_ext autoreload\n"
       ]
      }
     ],
     "prompt_number": 14
    },
    {
     "cell_type": "markdown",
     "metadata": {},
     "source": [
      "## RUNNING THE SIMULATION"
     ]
    },
    {
     "cell_type": "code",
     "collapsed": false,
     "input": [
      "def run_simulation_FG_sweep(params, FG):\n",
      "    try:\n",
      "        params[\"output_path\"]=\"\\\"{po}fg{FG}/\\\"\".format(po=PATH_OUTPUT, FG=FG)\n",
      "        params[\"retina_foreground\"]=FG\n",
      "        run_CIFAR10Spiking(params, version=5)\n",
      "        return True\n",
      "    except:\n",
      "        return False\n",
      "    \n",
      "def parallel_run(input_as_list):\n",
      "    return run_simulation_FG_sweep(*input_as_list)\n",
      "\n",
      "params = default_CIFAR10Spiking_v4_parameters.copy()\n",
      "params[\"stop_time\"]=10000.\n",
      "\n",
      "FGs = [400, 700, 1000, 1300, 1600, 2000, 2500, 5000]"
     ],
     "language": "python",
     "metadata": {},
     "outputs": [],
     "prompt_number": 5
    },
    {
     "cell_type": "code",
     "collapsed": false,
     "input": [
      "args = [[params, c[0]] for c in list(itertools.product(FGs))]\n",
      "pool = multiprocessing.Pool(processes=8)\n",
      "result = pool.map(parallel_run, args)\n",
      "print np.all(result), result"
     ],
     "language": "python",
     "metadata": {},
     "outputs": [
      {
       "output_type": "stream",
       "stream": "stdout",
       "text": [
        "True [True, True, True, True, True, True, True, True]\n"
       ]
      }
     ],
     "prompt_number": 28
    },
    {
     "cell_type": "markdown",
     "metadata": {},
     "source": [
      "## Analysis"
     ]
    },
    {
     "cell_type": "code",
     "collapsed": false,
     "input": [
      "def get_scs_from_PVP_SC_file(SC_data, idx):\n",
      "    return SC_data[i+1][0][1] - SC_data[i][0][1]\n",
      "\n",
      "def reconstruct_image_from_activities(V1_on, dict_pos, dict_neg):\n",
      "    image1 = reconstruct_image(V1_on, dict_pos, nx_rel_scale=.25, ny_rel_scale=.25)\n",
      "    image2 = reconstruct_image(V1_on, dict_neg, nx_rel_scale=.25, ny_rel_scale=.25)\n",
      "    return image1-image2\n",
      "\n",
      "combos = FGs\n",
      "\n",
      "display_period = params[\"display_period\"]\n",
      "\n",
      "[V12res_w_pos_data, V12res_w_pos_header] = oio.readpvpfile(PATH_V12RES_W_POS)\n",
      "[V12res_w_neg_data, V12res_w_neg_header] = oio.readpvpfile(PATH_V12RES_W_NEG)\n",
      "dict_pos = dict_from_flat_data(V12res_w_pos_data, V12res_w_pos_header)\n",
      "dict_neg = dict_from_flat_data(V12res_w_neg_data, V12res_w_neg_header)\n",
      "\n",
      "# ganglion activity is the same in all the combos, so I simply take it from the first.\n",
      "FG = combos[0]\n",
      "combo_folder = \"{po}fg{FG}/\".format(po=PATH_OUTPUT, FG=FG)\n",
      "[gang_data, gang_header] = oio.readpvpfile(combo_folder + \"/a1_ganglion.pvp\")\n",
      "[V1_rate_data, V1_rate_header] = oio.readpvpfile(PATH_OUTPUT_RATE + \"/V1.pvp\")\n",
      "norm_gang_images=[]\n",
      "norm_rate_rec_images=[]\n",
      "std_errors_rate_rec = []\n",
      "for i in xrange(len(gang_data)):\n",
      "    ganglion_image = gang_data[i][0][1]\n",
      "    gan_im = ganglion_image.T\n",
      "    norm_gang_images.append((gan_im - np.mean(gan_im))/np.std(gan_im - np.mean(gan_im)))\n",
      "    rate_act = sparse_to_full(V1_rate_data, V1_rate_header, i)\n",
      "    im3r = reconstruct_image_from_activities(rate_act, dict_pos, dict_neg)\n",
      "    rate_im = im3r[:,:,0].T;\n",
      "    norm_rate_rec_images.append((rate_im - np.mean(rate_im))/np.std(rate_im - np.mean(rate_im)))    \n",
      "    std_errors_rate_rec.append(np.std(norm_rate_rec_images[-1]-norm_gang_images[-1]))"
     ],
     "language": "python",
     "metadata": {},
     "outputs": [],
     "prompt_number": 6
    },
    {
     "cell_type": "code",
     "collapsed": false,
     "input": [
      "res_on_mean_ratess = []\n",
      "res_off_mean_ratess = []\n",
      "V1_mean_ratess = []\n",
      "std_errorss = []\n",
      "for combo in combos:\n",
      "    print combo\n",
      "    FG = combo\n",
      "    combo_folder = \"{po}fg{FG}/\".format(po=PATH_OUTPUT, FG=FG)\n",
      "    [V1_SC_data, V1_SC_header] = oio.readpvpfile(combo_folder+\"a12_V1_onSpikeCounter.pvp\")\n",
      "    [res_on_SC_data, res_on_SC_header] = oio.readpvpfile(combo_folder+\"a10_residual_onSpikeCounter.pvp\")\n",
      "    [res_off_SC_data, res_off_SC_header] = oio.readpvpfile(combo_folder+\"a11_residual_offSpikeCounter.pvp\")\n",
      "    res_on_mean_rates = np.zeros(len(V1_SC_data)-1)\n",
      "    res_off_mean_rates = np.zeros(len(V1_SC_data)-1)\n",
      "    V1_mean_rates = np.zeros(len(V1_SC_data)-1)\n",
      "    std_errors = np.zeros(len(V1_SC_data)-1)\n",
      "    for i in xrange(len(V1_SC_data)-1):\n",
      "        res_on_mean_rates[i]=1000.*np.sum(get_scs_from_PVP_SC_file(res_on_SC_data, i))/display_period\n",
      "        res_off_mean_rates[i]=1000.*np.sum(get_scs_from_PVP_SC_file(res_off_SC_data, i))/display_period\n",
      "        V1_mean_rates[i]=1000.*np.sum(get_scs_from_PVP_SC_file(V1_SC_data, i))/display_period\n",
      "        V1_rates = 1000.*get_scs_from_PVP_SC_file(V1_SC_data, i)/display_period\n",
      "        rec_im = reconstruct_image_from_activities(V1_rates, dict_pos, dict_neg)[:,:,0].T\n",
      "        if abs(np.sum(rec_im))>0:\n",
      "            norm_rec_im = (rec_im - np.mean(rec_im))/np.std(rec_im - np.mean(rec_im))\n",
      "        else:\n",
      "            norm_rec_im = rec_im\n",
      "        std_errors[i] = np.std(norm_rec_im-norm_gang_images[i])\n",
      "    res_on_mean_ratess.append(res_on_mean_rates)\n",
      "    res_off_mean_ratess.append(res_off_mean_rates)\n",
      "    V1_mean_ratess.append(V1_mean_rates)\n",
      "    std_errorss.append(std_errors)"
     ],
     "language": "python",
     "metadata": {},
     "outputs": [
      {
       "output_type": "stream",
       "stream": "stdout",
       "text": [
        "400\n",
        "700"
       ]
      },
      {
       "output_type": "stream",
       "stream": "stdout",
       "text": [
        "\n",
        "1000"
       ]
      },
      {
       "output_type": "stream",
       "stream": "stdout",
       "text": [
        "\n",
        "1300"
       ]
      },
      {
       "output_type": "stream",
       "stream": "stdout",
       "text": [
        "\n",
        "1600"
       ]
      },
      {
       "output_type": "stream",
       "stream": "stdout",
       "text": [
        "\n",
        "2000"
       ]
      },
      {
       "output_type": "stream",
       "stream": "stdout",
       "text": [
        "\n",
        "2500"
       ]
      },
      {
       "output_type": "stream",
       "stream": "stdout",
       "text": [
        "\n",
        "5000"
       ]
      },
      {
       "output_type": "stream",
       "stream": "stdout",
       "text": [
        "\n"
       ]
      }
     ],
     "prompt_number": 7
    },
    {
     "cell_type": "markdown",
     "metadata": {},
     "source": [
      "## Analysis with Pandas, pretty tables"
     ]
    },
    {
     "cell_type": "code",
     "collapsed": false,
     "input": [
      "d = {\"FG\": combos,\n",
      "     \"mean_std_err\": np.mean(std_errorss,1),\n",
      "     \"V1_mean_rates\": np.mean(V1_mean_ratess, 1),\n",
      "     }\n",
      "df = pd.DataFrame(d)"
     ],
     "language": "python",
     "metadata": {},
     "outputs": [],
     "prompt_number": 8
    },
    {
     "cell_type": "code",
     "collapsed": false,
     "input": [
      "df"
     ],
     "language": "python",
     "metadata": {},
     "outputs": [
      {
       "html": [
        "<div style=\"max-height:1000px;max-width:1500px;overflow:auto;\">\n",
        "<table border=\"1\" class=\"dataframe\">\n",
        "  <thead>\n",
        "    <tr style=\"text-align: right;\">\n",
        "      <th></th>\n",
        "      <th>FG</th>\n",
        "      <th>V1_mean_rates</th>\n",
        "      <th>mean_std_err</th>\n",
        "    </tr>\n",
        "  </thead>\n",
        "  <tbody>\n",
        "    <tr>\n",
        "      <th>0</th>\n",
        "      <td>  400</td>\n",
        "      <td>  2120.4</td>\n",
        "      <td> 0.661527</td>\n",
        "    </tr>\n",
        "    <tr>\n",
        "      <th>1</th>\n",
        "      <td>  700</td>\n",
        "      <td>  8574.2</td>\n",
        "      <td> 0.477115</td>\n",
        "    </tr>\n",
        "    <tr>\n",
        "      <th>2</th>\n",
        "      <td> 1000</td>\n",
        "      <td> 16241.7</td>\n",
        "      <td> 0.416714</td>\n",
        "    </tr>\n",
        "    <tr>\n",
        "      <th>3</th>\n",
        "      <td> 1300</td>\n",
        "      <td> 23698.2</td>\n",
        "      <td> 0.398731</td>\n",
        "    </tr>\n",
        "    <tr>\n",
        "      <th>4</th>\n",
        "      <td> 1600</td>\n",
        "      <td> 30462.9</td>\n",
        "      <td> 0.393567</td>\n",
        "    </tr>\n",
        "    <tr>\n",
        "      <th>5</th>\n",
        "      <td> 2000</td>\n",
        "      <td> 38407.1</td>\n",
        "      <td> 0.392080</td>\n",
        "    </tr>\n",
        "    <tr>\n",
        "      <th>6</th>\n",
        "      <td> 2500</td>\n",
        "      <td> 46975.2</td>\n",
        "      <td> 0.396292</td>\n",
        "    </tr>\n",
        "    <tr>\n",
        "      <th>7</th>\n",
        "      <td> 5000</td>\n",
        "      <td> 75151.4</td>\n",
        "      <td> 0.427167</td>\n",
        "    </tr>\n",
        "  </tbody>\n",
        "</table>\n",
        "</div>"
       ],
       "metadata": {},
       "output_type": "pyout",
       "prompt_number": 9,
       "text": [
        "     FG  V1_mean_rates  mean_std_err\n",
        "0   400         2120.4      0.661527\n",
        "1   700         8574.2      0.477115\n",
        "2  1000        16241.7      0.416714\n",
        "3  1300        23698.2      0.398731\n",
        "4  1600        30462.9      0.393567\n",
        "5  2000        38407.1      0.392080\n",
        "6  2500        46975.2      0.396292\n",
        "7  5000        75151.4      0.427167"
       ]
      }
     ],
     "prompt_number": 9
    },
    {
     "cell_type": "code",
     "collapsed": false,
     "input": [
      "pyl.plot(np.mean(V1_mean_ratess, 1)/2000., np.mean(std_errorss,1))\n",
      "pyl.xlabel(\"total rates [kHz]\")\n",
      "pyl.ylabel(\"L2 error\")\n",
      "pyl.gcf().subplots_adjust(bottom=0.15, left=0.15)\n",
      "pyl.savefig(PATH_FIGURES + \"errorVsSpikes.pdf\")"
     ],
     "language": "python",
     "metadata": {},
     "outputs": [
      {
       "metadata": {},
       "output_type": "display_data",
       "png": "[encoded data removed]",
       "text": [
        "<matplotlib.figure.Figure at 0x447e8d0>"
       ]
      }
     ],
     "prompt_number": 23
    },
    {
     "cell_type": "code",
     "collapsed": false,
     "input": [],
     "language": "python",
     "metadata": {},
     "outputs": []
    }
   ],
   "metadata": {}
  }
 ]
}