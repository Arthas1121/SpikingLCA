{
 "metadata": {
  "name": "CIFAR10_preprocessing"
 },
 "nbformat": 3,
 "nbformat_minor": 0,
 "worksheets": [
  {
   "cells": [
    {
     "cell_type": "code",
     "collapsed": false,
     "input": [
      "%load_ext autoreload\n",
      "%autoreload 2\n",
      "\n",
      "import numpy as np\n",
      "import neurovivo.common as cmn\n",
      "from LCA.LCA_common import rgb_to_grey, plottable_rgb_matrix\n",
      "import matplotlib.pyplot as pyl\n",
      "import matplotlib.cm as cm\n",
      "\n",
      "PATH_TO_IMAGES = cmn.HOME+\"/data/LCA/datasets/cifar-10-batches-py/\""
     ],
     "language": "python",
     "metadata": {},
     "outputs": [],
     "prompt_number": 1
    },
    {
     "cell_type": "code",
     "collapsed": false,
     "input": [
      "pyl.figure(figsize=(10,4))\n",
      "db1 = cmn.load_pickle(PATH_TO_IMAGES + \"/data_batch_1\")\n",
      "color_img_vec = db1[\"data\"][144]\n",
      "grey_img_vec = rgb_to_grey(color_img_vec)\n",
      "pyl.subplot(1,2,1)\n",
      "pyl.imshow(grey_img_vec.reshape(32,32), interpolation=\"nearest\", cmap=cm.Greys_r)\n",
      "pyl.subplot(1,2,2)\n",
      "pyl.imshow(plottable_rgb_matrix(color_img_vec, (32, 32)), interpolation=\"nearest\")"
     ],
     "language": "python",
     "metadata": {},
     "outputs": [
      {
       "output_type": "pyout",
       "prompt_number": 2,
       "text": [
        "<matplotlib.image.AxesImage at 0x3dffe50>"
       ]
      },
      {
       "output_type": "display_data",
       "png": "[encoded data removed]"
      }
     ],
     "prompt_number": 2
    },
    {
     "cell_type": "code",
     "collapsed": false,
     "input": [
      "import png\n"
     ],
     "language": "python",
     "metadata": {},
     "outputs": [],
     "prompt_number": 3
    },
    {
     "cell_type": "code",
     "collapsed": false,
     "input": [
      "png.from_array(plottable_rgb_matrix(color_img_vec, (32, 32)), 'L').save(\"testis.png\")"
     ],
     "language": "python",
     "metadata": {},
     "outputs": [
      {
       "ename": "AssertionError",
       "evalue": "",
       "output_type": "pyerr",
       "traceback": [
        "\u001b[1;31m---------------------------------------------------------------------------\u001b[0m\n\u001b[1;31mAssertionError\u001b[0m                            Traceback (most recent call last)",
        "\u001b[1;32m<ipython-input-6-ed4a49e3c4a7>\u001b[0m in \u001b[0;36m<module>\u001b[1;34m()\u001b[0m\n\u001b[1;32m----> 1\u001b[1;33m \u001b[0mpng\u001b[0m\u001b[1;33m.\u001b[0m\u001b[0mfrom_array\u001b[0m\u001b[1;33m(\u001b[0m\u001b[0mplottable_rgb_matrix\u001b[0m\u001b[1;33m(\u001b[0m\u001b[0mcolor_img_vec\u001b[0m\u001b[1;33m,\u001b[0m \u001b[1;33m(\u001b[0m\u001b[1;36m32\u001b[0m\u001b[1;33m,\u001b[0m \u001b[1;36m32\u001b[0m\u001b[1;33m)\u001b[0m\u001b[1;33m)\u001b[0m\u001b[1;33m,\u001b[0m \u001b[1;34m'L'\u001b[0m\u001b[1;33m)\u001b[0m\u001b[1;33m.\u001b[0m\u001b[0msave\u001b[0m\u001b[1;33m(\u001b[0m\u001b[1;34m\"testis.png\"\u001b[0m\u001b[1;33m)\u001b[0m\u001b[1;33m\u001b[0m\u001b[0m\n\u001b[0m",
        "\u001b[1;32m/afs/inf.ed.ac.uk/user/s10/s1065055/canopy/lib/python2.7/site-packages/pypng-0.0.16-py2.7.egg/png.pyc\u001b[0m in \u001b[0;36mfrom_array\u001b[1;34m(a, mode, info)\u001b[0m\n\u001b[0;32m   1243\u001b[0m \u001b[1;33m\u001b[0m\u001b[0m\n\u001b[0;32m   1244\u001b[0m     \u001b[1;31m# Not implemented yet\u001b[0m\u001b[1;33m\u001b[0m\u001b[1;33m\u001b[0m\u001b[0m\n\u001b[1;32m-> 1245\u001b[1;33m     \u001b[1;32massert\u001b[0m \u001b[1;32mnot\u001b[0m \u001b[0mthreed\u001b[0m\u001b[1;33m\u001b[0m\u001b[0m\n\u001b[0m\u001b[0;32m   1246\u001b[0m \u001b[1;33m\u001b[0m\u001b[0m\n\u001b[0;32m   1247\u001b[0m     \u001b[1;32mif\u001b[0m \u001b[1;34m'bitdepth'\u001b[0m \u001b[1;32mnot\u001b[0m \u001b[1;32min\u001b[0m \u001b[0minfo\u001b[0m\u001b[1;33m:\u001b[0m\u001b[1;33m\u001b[0m\u001b[0m\n",
        "\u001b[1;31mAssertionError\u001b[0m: "
       ]
      }
     ],
     "prompt_number": 6
    },
    {
     "cell_type": "code",
     "collapsed": false,
     "input": [
      "s = ['110010010011',\n",
      "     '101011010100',\n",
      "     '110010110101',\n",
      "     '100010010011']\n",
      "s = map(lambda x: map(int, x), s)\n",
      "\n",
      "f = open('png.png', 'wb')\n",
      "w = png.Writer(32, 32, greyscale=True, bitdepth=8)\n",
      "w.write(f, grey_img_vec.reshape(32,32))\n",
      "f.close()"
     ],
     "language": "python",
     "metadata": {},
     "outputs": [],
     "prompt_number": 15
    },
    {
     "cell_type": "code",
     "collapsed": false,
     "input": [
      "s"
     ],
     "language": "python",
     "metadata": {},
     "outputs": [
      {
       "output_type": "pyout",
       "prompt_number": 8,
       "text": [
        "[[1, 1, 0, 0, 1, 0, 0, 1, 0, 0, 1, 1],\n",
        " [1, 0, 1, 0, 1, 1, 0, 1, 0, 1, 0, 0],\n",
        " [1, 1, 0, 0, 1, 0, 1, 1, 0, 1, 0, 1],\n",
        " [1, 0, 0, 0, 1, 0, 0, 1, 0, 0, 1, 1]]"
       ]
      }
     ],
     "prompt_number": 8
    },
    {
     "cell_type": "code",
     "collapsed": false,
     "input": [
      "2**8"
     ],
     "language": "python",
     "metadata": {},
     "outputs": [
      {
       "output_type": "pyout",
       "prompt_number": 13,
       "text": [
        "256"
       ]
      }
     ],
     "prompt_number": 13
    },
    {
     "cell_type": "code",
     "collapsed": false,
     "input": [
      "np.max(grey_img_vec.reshape(32,32))"
     ],
     "language": "python",
     "metadata": {},
     "outputs": [
      {
       "output_type": "pyout",
       "prompt_number": 14,
       "text": [
        "240.74789999999999"
       ]
      }
     ],
     "prompt_number": 14
    },
    {
     "cell_type": "code",
     "collapsed": false,
     "input": [],
     "language": "python",
     "metadata": {},
     "outputs": []
    }
   ],
   "metadata": {}
  }
 ]
}