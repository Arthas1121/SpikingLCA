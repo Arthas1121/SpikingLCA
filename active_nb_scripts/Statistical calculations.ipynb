{
 "metadata": {
  "name": "Statistical calculations"
 },
 "nbformat": 3,
 "nbformat_minor": 0,
 "worksheets": [
  {
   "cells": [
    {
     "cell_type": "markdown",
     "metadata": {},
     "source": [
      "## The mean of absolute normal distribution $\\approx$ 0.798"
     ]
    },
    {
     "cell_type": "code",
     "collapsed": false,
     "input": [
      "import numpy as np\n",
      "\n",
      "np.mean(np.abs(np.random.randn(1000000)))"
     ],
     "language": "python",
     "metadata": {},
     "outputs": [
      {
       "output_type": "pyout",
       "prompt_number": 10,
       "text": [
        "0.79836921279091322"
       ]
      }
     ],
     "prompt_number": 10
    },
    {
     "cell_type": "markdown",
     "metadata": {},
     "source": [
      "## How does the mean size of the individual external input scale with the $N_{dic}$, $N_{dim}$ and $k$\n",
      "\n",
      "NOTE: The dict. elements are normalized.\n",
      "\n",
      "### In the case of the positive dict. elements and external inputs.\n",
      "\n",
      "It should scale linearly with k and not at all with $N_{dic}$, as it's only the number of individual inputs (and of course neurons) scales with the $N_{dic}$.\n",
      "\n",
      "Ndim should be more complicated, as we normalize the dict. element $\\phi$. Indeed it scales as $1/\\sqrt{N_{dim}}$ given Ndic and k are kept constant. If we denote $a$ as the sparse vector, $\\phi$ as the dict. element, then we can write:\n",
      "$$\n",
      "|x_i|=|\\phi_i a_i| = |\\phi_i| |a_i| = (1/\\sqrt{N_{dim}}) \\|a\\|_0 |a^{act}_i|=\\frac{0.798*k}{\\sqrt{N_{dim}}},\n",
      "$$\n",
      "where $|a^{act}_i|$ is the mean of the nonzero elements in a, which in our case is the mean of absolute normal distribution (0.798) and $\\|a\\|_0=k$ is the number of those nonzero elements.\n",
      "\n",
      "Q: How is the coefficient of the variation changing with k and $N_{dim}$? I did some calculations in my notebook, but it seems they are quite complicated and the required effort to write them down here is not yet justified.\n",
      "\n",
      "### In the case of the also negative dict. elements (but positive a).\n",
      "In this case the mean input is of course 0 and as the variablitity is also falling with the increasing $N_{dim}$, the input sizes will be falling towards zero."
     ]
    },
    {
     "cell_type": "code",
     "collapsed": false,
     "input": [],
     "language": "python",
     "metadata": {},
     "outputs": []
    }
   ],
   "metadata": {}
  }
 ]
}