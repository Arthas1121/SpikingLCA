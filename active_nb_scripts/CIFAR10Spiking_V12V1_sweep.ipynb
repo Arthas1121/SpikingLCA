{
 "metadata": {
  "name": ""
 },
 "nbformat": 3,
 "nbformat_minor": 0,
 "worksheets": [
  {
   "cells": [
    {
     "cell_type": "markdown",
     "metadata": {},
     "source": [
      "# The parameter sweep on V12V1 weights.\n",
      "## Version 1 - first trial\n",
      "\n",
      "Using the v5 template (and v4 params file).\n",
      "\n",
      "...\n",
      "\n",
      "### Outcomes\n",
      "\n",
      "* Once more it turns out the V12V1 connectivity doesn't make much difference. If you increase it to a very high value, you get to a point where the system spikes more, but those spikes don't really contribute to the accuracy."
     ]
    },
    {
     "cell_type": "code",
     "collapsed": false,
     "input": [
      "%load_ext autoreload\n",
      "%autoreload 2\n",
      "\n",
      "import LCA.LCA_common as cmn\n",
      "import LCA.LCA_octave_io as oio\n",
      "import neurovivo.plotting.plotting as nvplt\n",
      "import matplotlib as mpl\n",
      "mpl.rc(\"text\", usetex=False)\n",
      "import matplotlib.pyplot as pyl\n",
      "import matplotlib.cm as cm\n",
      "from matplotlib import animation\n",
      "import LCA.LCA_plotting as plt\n",
      "from LCA.LCA_analysis import sparse_to_full, reconstruct_image, dict_set_at_idx, spike_population_from_pvp, dict_from_flat_data\n",
      "import neurovivo.common as nvcmn\n",
      "from LCA.LCA_various import run_CIFAR10Spiking, default_CIFAR10Spiking_v4_parameters\n",
      "import itertools\n",
      "import multiprocessing\n",
      "import pandas as pd\n",
      "\n",
      "PATH_OUTPUT = cmn.HOME+\"/data/CIFAR10Spiking/V12V1_W_sweep/\"\n",
      "PATH_OUTPUT_RATE = cmn.HOME+\"/data/CIFAR10RateForComparison/\"\n",
      "\n",
      "PATH_FIGURES = cmn.HOME + \"/data/figures/CIFAR10Spiking/V12V1_W_sweep/\"\n",
      "PATH_V12RES_W_POS = cmn.HOME + \"/ws/CIFAR10Spiking/input/weights/V1_to_residual_W.pvp_pos\"\n",
      "PATH_V12RES_W_NEG = cmn.HOME + \"/ws/CIFAR10Spiking/input/weights/V1_to_residual_W.pvp_neg\"\n",
      "PATH_RES2V1_W_POS = cmn.HOME + \"/ws/CIFAR10Spiking/input/weights/residual_to_V1_W.pvp_pos\"\n",
      "PATH_RES2V1_W_NEG = cmn.HOME + \"/ws/CIFAR10Spiking/input/weights/residual_to_V1_W.pvp_neg\"\n",
      "\n",
      "cmn.mkdir_p(PATH_FIGURES)"
     ],
     "language": "python",
     "metadata": {},
     "outputs": [],
     "prompt_number": 1
    },
    {
     "cell_type": "markdown",
     "metadata": {},
     "source": [
      "## RUNNING THE SIMULATION"
     ]
    },
    {
     "cell_type": "code",
     "collapsed": false,
     "input": [
      "def run_simulation_V12V1_sweep(params, V12V1_W):\n",
      "    try:\n",
      "        params[\"output_path\"]=\"\\\"{po}v12v1{V12V1}/\\\"\".format(po=PATH_OUTPUT, V12V1=V12V1_W)\n",
      "        params[\"V12V1_W\"]=V12V1_W\n",
      "        run_CIFAR10Spiking(params, version=5)\n",
      "        return True\n",
      "    except:\n",
      "        return False\n",
      "    \n",
      "def parallel_run(input_as_list):\n",
      "    return run_simulation_V12V1_sweep(*input_as_list)\n",
      "\n",
      "params = default_CIFAR10Spiking_v4_parameters.copy()\n",
      "params[\"stop_time\"]=10000.\n",
      "\n",
      "V12V1_Ws = [0., 1., 10., 50., 100., 150., 200., 300., 500.]"
     ],
     "language": "python",
     "metadata": {},
     "outputs": [],
     "prompt_number": 31
    },
    {
     "cell_type": "code",
     "collapsed": false,
     "input": [
      "args = [[params, c] for c in V12V1_Ws]\n",
      "pool = multiprocessing.Pool(processes=9)\n",
      "result = pool.map(parallel_run, args)\n",
      "print np.all(result), result"
     ],
     "language": "python",
     "metadata": {},
     "outputs": [
      {
       "output_type": "stream",
       "stream": "stdout",
       "text": [
        "True [True, True, True, True, True, True, True, True, True]\n"
       ]
      }
     ],
     "prompt_number": 32
    },
    {
     "cell_type": "markdown",
     "metadata": {},
     "source": [
      "## Analysis"
     ]
    },
    {
     "cell_type": "code",
     "collapsed": false,
     "input": [
      "def get_scs_from_PVP_SC_file(SC_data, idx):\n",
      "    return SC_data[i+1][0][1] - SC_data[i][0][1]\n",
      "\n",
      "def reconstruct_image_from_activities(V1_on, dict_pos, dict_neg):\n",
      "    image1 = reconstruct_image(V1_on, dict_pos, nx_rel_scale=.25, ny_rel_scale=.25)\n",
      "    image2 = reconstruct_image(V1_on, dict_neg, nx_rel_scale=.25, ny_rel_scale=.25)\n",
      "    return image1-image2\n",
      "\n",
      "combos = V12V1_Ws\n",
      "\n",
      "display_period = params[\"display_period\"]\n",
      "\n",
      "[V12res_w_pos_data, V12res_w_pos_header] = oio.readpvpfile(PATH_V12RES_W_POS)\n",
      "[V12res_w_neg_data, V12res_w_neg_header] = oio.readpvpfile(PATH_V12RES_W_NEG)\n",
      "dict_pos = dict_from_flat_data(V12res_w_pos_data, V12res_w_pos_header)\n",
      "dict_neg = dict_from_flat_data(V12res_w_neg_data, V12res_w_neg_header)\n",
      "\n",
      "# ganglion activity is the same in all the combos, so I simply take it from the first.\n",
      "V12V1_W = combos[0]\n",
      "combo_folder = \"{po}v12v1{V12V1}/\".format(po=PATH_OUTPUT, V12V1=V12V1_W)\n",
      "[gang_data, gang_header] = oio.readpvpfile(combo_folder + \"/a1_ganglion.pvp\")\n",
      "[V1_rate_data, V1_rate_header] = oio.readpvpfile(PATH_OUTPUT_RATE + \"/V1.pvp\")\n",
      "norm_gang_images=[]\n",
      "norm_rate_rec_images=[]\n",
      "std_errors_rate_rec = []\n",
      "for i in xrange(len(gang_data)):\n",
      "    ganglion_image = gang_data[i][0][1]\n",
      "    gan_im = ganglion_image.T\n",
      "    norm_gang_images.append((gan_im - np.mean(gan_im))/np.std(gan_im - np.mean(gan_im)))\n",
      "    rate_act = sparse_to_full(V1_rate_data, V1_rate_header, i)\n",
      "    im3r = reconstruct_image_from_activities(rate_act, dict_pos, dict_neg)\n",
      "    rate_im = im3r[:,:,0].T;\n",
      "    norm_rate_rec_images.append((rate_im - np.mean(rate_im))/np.std(rate_im - np.mean(rate_im)))    \n",
      "    std_errors_rate_rec.append(np.std(norm_rate_rec_images[-1]-norm_gang_images[-1]))"
     ],
     "language": "python",
     "metadata": {},
     "outputs": [],
     "prompt_number": 33
    },
    {
     "cell_type": "code",
     "collapsed": false,
     "input": [
      "res_on_mean_ratess = []\n",
      "res_off_mean_ratess = []\n",
      "V1_mean_ratess = []\n",
      "std_errorss = []\n",
      "for combo in combos:\n",
      "    print combo\n",
      "    V12V1_W = combo\n",
      "    combo_folder = \"{po}v12v1{V12V1}/\".format(po=PATH_OUTPUT, V12V1=V12V1_W)\n",
      "    [V1_SC_data, V1_SC_header] = oio.readpvpfile(combo_folder+\"a12_V1_onSpikeCounter.pvp\")\n",
      "    [res_on_SC_data, res_on_SC_header] = oio.readpvpfile(combo_folder+\"a10_residual_onSpikeCounter.pvp\")\n",
      "    [res_off_SC_data, res_off_SC_header] = oio.readpvpfile(combo_folder+\"a11_residual_offSpikeCounter.pvp\")\n",
      "    res_on_mean_rates = np.zeros(len(V1_SC_data)-1)\n",
      "    res_off_mean_rates = np.zeros(len(V1_SC_data)-1)\n",
      "    V1_mean_rates = np.zeros(len(V1_SC_data)-1)\n",
      "    std_errors = np.zeros(len(V1_SC_data)-1)\n",
      "    for i in xrange(len(V1_SC_data)-1):\n",
      "        res_on_mean_rates[i]=1000.*np.sum(get_scs_from_PVP_SC_file(res_on_SC_data, i))/display_period\n",
      "        res_off_mean_rates[i]=1000.*np.sum(get_scs_from_PVP_SC_file(res_off_SC_data, i))/display_period\n",
      "        V1_mean_rates[i]=1000.*np.sum(get_scs_from_PVP_SC_file(V1_SC_data, i))/display_period\n",
      "        V1_rates = 1000.*get_scs_from_PVP_SC_file(V1_SC_data, i)/display_period\n",
      "        rec_im = reconstruct_image_from_activities(V1_rates, dict_pos, dict_neg)[:,:,0].T\n",
      "        if abs(np.sum(rec_im))>0:\n",
      "            norm_rec_im = (rec_im - np.mean(rec_im))/np.std(rec_im - np.mean(rec_im))\n",
      "        else:\n",
      "            norm_rec_im = rec_im\n",
      "        std_errors[i] = np.std(norm_rec_im-norm_gang_images[i])\n",
      "    res_on_mean_ratess.append(res_on_mean_rates)\n",
      "    res_off_mean_ratess.append(res_off_mean_rates)\n",
      "    V1_mean_ratess.append(V1_mean_rates)\n",
      "    std_errorss.append(std_errors)"
     ],
     "language": "python",
     "metadata": {},
     "outputs": [
      {
       "output_type": "stream",
       "stream": "stdout",
       "text": [
        "0.0\n",
        "1.0"
       ]
      },
      {
       "output_type": "stream",
       "stream": "stdout",
       "text": [
        "\n",
        "10.0"
       ]
      },
      {
       "output_type": "stream",
       "stream": "stdout",
       "text": [
        "\n",
        "50.0"
       ]
      },
      {
       "output_type": "stream",
       "stream": "stdout",
       "text": [
        "\n",
        "100.0"
       ]
      },
      {
       "output_type": "stream",
       "stream": "stdout",
       "text": [
        "\n",
        "150.0"
       ]
      },
      {
       "output_type": "stream",
       "stream": "stdout",
       "text": [
        "\n",
        "200.0"
       ]
      },
      {
       "output_type": "stream",
       "stream": "stdout",
       "text": [
        "\n",
        "300.0"
       ]
      },
      {
       "output_type": "stream",
       "stream": "stdout",
       "text": [
        "\n",
        "500.0"
       ]
      },
      {
       "output_type": "stream",
       "stream": "stdout",
       "text": [
        "\n"
       ]
      }
     ],
     "prompt_number": 34
    },
    {
     "cell_type": "markdown",
     "metadata": {},
     "source": [
      "## Analysis with Pandas, pretty tables"
     ]
    },
    {
     "cell_type": "code",
     "collapsed": false,
     "input": [
      "d = {\"V12V1_W\": combos,\n",
      "     \"mean_std_err\": np.mean(std_errorss,1),\n",
      "     \"V1_mean_rates\": np.mean(V1_mean_ratess, 1),\n",
      "     }\n",
      "df = pd.DataFrame(d)"
     ],
     "language": "python",
     "metadata": {},
     "outputs": [],
     "prompt_number": 35
    },
    {
     "cell_type": "code",
     "collapsed": false,
     "input": [
      "df"
     ],
     "language": "python",
     "metadata": {},
     "outputs": [
      {
       "html": [
        "<div style=\"max-height:1000px;max-width:1500px;overflow:auto;\">\n",
        "<table border=\"1\" class=\"dataframe\">\n",
        "  <thead>\n",
        "    <tr style=\"text-align: right;\">\n",
        "      <th></th>\n",
        "      <th>V12V1_W</th>\n",
        "      <th>V1_mean_rates</th>\n",
        "      <th>mean_std_err</th>\n",
        "    </tr>\n",
        "  </thead>\n",
        "  <tbody>\n",
        "    <tr>\n",
        "      <th>0</th>\n",
        "      <td>   0</td>\n",
        "      <td> 16026.2</td>\n",
        "      <td> 0.416584</td>\n",
        "    </tr>\n",
        "    <tr>\n",
        "      <th>1</th>\n",
        "      <td>   1</td>\n",
        "      <td> 16044.8</td>\n",
        "      <td> 0.416803</td>\n",
        "    </tr>\n",
        "    <tr>\n",
        "      <th>2</th>\n",
        "      <td>  10</td>\n",
        "      <td> 16241.7</td>\n",
        "      <td> 0.416714</td>\n",
        "    </tr>\n",
        "    <tr>\n",
        "      <th>3</th>\n",
        "      <td>  50</td>\n",
        "      <td> 17488.9</td>\n",
        "      <td> 0.418566</td>\n",
        "    </tr>\n",
        "    <tr>\n",
        "      <th>4</th>\n",
        "      <td> 100</td>\n",
        "      <td> 32210.1</td>\n",
        "      <td> 0.410500</td>\n",
        "    </tr>\n",
        "    <tr>\n",
        "      <th>5</th>\n",
        "      <td> 150</td>\n",
        "      <td> 34051.0</td>\n",
        "      <td> 0.409372</td>\n",
        "    </tr>\n",
        "    <tr>\n",
        "      <th>6</th>\n",
        "      <td> 200</td>\n",
        "      <td> 36738.4</td>\n",
        "      <td> 0.409634</td>\n",
        "    </tr>\n",
        "    <tr>\n",
        "      <th>7</th>\n",
        "      <td> 300</td>\n",
        "      <td> 41377.9</td>\n",
        "      <td> 0.408653</td>\n",
        "    </tr>\n",
        "    <tr>\n",
        "      <th>8</th>\n",
        "      <td> 500</td>\n",
        "      <td> 51575.2</td>\n",
        "      <td> 0.410732</td>\n",
        "    </tr>\n",
        "  </tbody>\n",
        "</table>\n",
        "</div>"
       ],
       "metadata": {},
       "output_type": "pyout",
       "prompt_number": 36,
       "text": [
        "   V12V1_W  V1_mean_rates  mean_std_err\n",
        "0        0        16026.2      0.416584\n",
        "1        1        16044.8      0.416803\n",
        "2       10        16241.7      0.416714\n",
        "3       50        17488.9      0.418566\n",
        "4      100        32210.1      0.410500\n",
        "5      150        34051.0      0.409372\n",
        "6      200        36738.4      0.409634\n",
        "7      300        41377.9      0.408653\n",
        "8      500        51575.2      0.410732"
       ]
      }
     ],
     "prompt_number": 36
    },
    {
     "cell_type": "code",
     "collapsed": false,
     "input": [
      "pyl.plot(np.mean(V1_mean_ratess, 1)/2000., np.mean(std_errorss,1))\n",
      "pyl.xlabel(\"spikes [1000]\")\n",
      "pyl.ylabel(\"L2 error\")\n",
      "pyl.ylim(0.3,0.5)"
     ],
     "language": "python",
     "metadata": {},
     "outputs": [
      {
       "metadata": {},
       "output_type": "pyout",
       "prompt_number": 37,
       "text": [
        "(0.3, 0.5)"
       ]
      },
      {
       "metadata": {},
       "output_type": "display_data",
       "png": "[encoded data removed]",
       "text": [
        "<matplotlib.figure.Figure at 0x5ba7f10>"
       ]
      }
     ],
     "prompt_number": 37
    }
   ],
   "metadata": {}
  }
 ]
}