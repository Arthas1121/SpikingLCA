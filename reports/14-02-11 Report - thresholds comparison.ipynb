{
 "metadata": {
  "name": "14-02-11 Report - thresholds comparison"
 },
 "nbformat": 3,
 "nbformat_minor": 0,
 "worksheets": [
  {
   "cells": [
    {
     "cell_type": "markdown",
     "metadata": {},
     "source": [
      "# 14-02-11 Report - The threhold comparison\n",
      "\n",
      "Here I compare the performance of the thresholds on the rate model of LCA. I look at 6 different threshold implementation:\n",
      "\n",
      "* Hard threshold (symetric & positive only)\n",
      "* Soft threshold (symetric & positive only)\n",
      "* Mixed threshold (symetric & positive only)\n",
      "\n",
      "All six versions of the threshold are presented in the figure below:\n",
      "\n",
      "![](files/figures/rate_based/thr_functions.png)\n",
      "\n",
      "I ran exactly the same instance of the input and dictionary on all the threholds for k = 4 and k = 10 where k is the number of the dictionary elements used to construct the input (see previous reports - generative model). Changing the threshold, I can look at the tradeoff between the sparsity and the reconstruction error. I plot the results in the figure below:\n",
      "\n",
      "![](files/figures/rate_based/thr_comparison_all.png)\n",
      "\n",
      "The left figure shows results for k=4 and the right one for k=10. To be more confident in the conclusions, I would need to run more examples, however, it seems pretty clear that: \n",
      "\n",
      "- the positive only threholds are in general worse then the symetric ones,\n",
      "- the soft threshold performs worse then the other two, \n",
      "- while mixed and hard threshold seem to be pretty comparable."
     ]
    },
    {
     "cell_type": "code",
     "collapsed": false,
     "input": [],
     "language": "python",
     "metadata": {},
     "outputs": []
    }
   ],
   "metadata": {}
  }
 ]
}